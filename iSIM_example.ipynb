{
 "cells": [
  {
   "cell_type": "code",
   "execution_count": 1,
   "metadata": {},
   "outputs": [
    {
     "data": {
      "text/plain": [
       "'                             iSIM_MODULES\\n    ----------------------------------------------------------------------\\n    \\n    Miranda-Quintana Group, Department of Chemistry, University of Florida \\n    \\n    ----------------------------------------------------------------------\\n    \\n    Please, cite the original paper on iSIM:\\n\\n    ----------------------------------------------------------------------\\n\\n    This file contains an example of generation of fingerprints and comparison\\n    of molecules using the iSIM method.\\n\\n    '"
      ]
     },
     "execution_count": 1,
     "metadata": {},
     "output_type": "execute_result"
    }
   ],
   "source": [
    "\"\"\"                             iSIM_MODULES\n",
    "    ----------------------------------------------------------------------\n",
    "    \n",
    "    Miranda-Quintana Group, Department of Chemistry, University of Florida \n",
    "    \n",
    "    ----------------------------------------------------------------------\n",
    "    \n",
    "    Please, cite the original paper on iSIM:\n",
    "\n",
    "    ----------------------------------------------------------------------\n",
    "\n",
    "    This file contains an example of generation of fingerprints from smiles strings\n",
    "    and comparison of molecules using the iSIM method.\n",
    "\n",
    "    \"\"\""
   ]
  },
  {
   "cell_type": "code",
   "execution_count": 10,
   "metadata": {},
   "outputs": [],
   "source": [
    "from isim_comp import *\n",
    "import pandas as pd\n",
    "import os\n",
    "import rdkit\n",
    "from rdkit import Chem\n",
    "from rdkit import DataStructs\n",
    "from rdkit.Chem import Draw\n"
   ]
  },
  {
   "cell_type": "code",
   "execution_count": 20,
   "metadata": {},
   "outputs": [
    {
     "name": "stderr",
     "output_type": "stream",
     "text": [
      "--2024-03-29 17:07:17--  https://raw.githubusercontent.com/molML/MoleculeACE/main/MoleculeACE/Data/benchmark_data/old/CHEMBL214_Ki.csv\n",
      "Resolving raw.githubusercontent.com (raw.githubusercontent.com)... 185.199.111.133, 185.199.110.133, 185.199.108.133, ...\n",
      "Connecting to raw.githubusercontent.com (raw.githubusercontent.com)|185.199.111.133|:443... connected.\n",
      "HTTP request sent, awaiting response... 200 OK\n",
      "Length: 266241 (260K) [text/plain]\n",
      "Saving to: ‘CHEMBL214_Ki.csv.1’\n",
      "\n",
      "     0K .......... .......... .......... .......... .......... 19% 3.12M 0s\n",
      "    50K .......... .......... .......... .......... .......... 38% 5.25M 0s\n",
      "   100K .......... .......... .......... .......... .......... 57% 13.7M 0s\n",
      "   150K .......... .......... .......... .......... .......... 76% 18.5M 0s\n",
      "   200K .......... .......... .......... .......... .......... 96% 8.44M 0s\n",
      "   250K ..........                                            100%  277M=0.04s\n",
      "\n",
      "2024-03-29 17:07:17 (6.87 MB/s) - ‘CHEMBL214_Ki.csv.1’ saved [266241/266241]\n",
      "\n"
     ]
    },
    {
     "data": {
      "text/plain": [
       "0"
      ]
     },
     "execution_count": 20,
     "metadata": {},
     "output_type": "execute_result"
    }
   ],
   "source": [
    "### Access remotly the databases worked on the iSIM paper\n",
    "### The databases are available at: https://github.com/molML/MoleculeACE/blob/main/MoleculeACE/Data/benchmark_data/old/\n",
    "\n",
    "git_path = 'https://raw.githubusercontent.com/molML/MoleculeACE/main/MoleculeACE/Data/benchmark_data/old/'\n",
    "\n",
    "### Please cite the original paper where the databases were cured:\n",
    "\"\"\"Exposing the Limitations of Molecular Machine Learning with Activity Cliffs. Derek van Tilborg, Alisa Alenicheva, and Francesca Grisoni. \n",
    "Journal of Chemical Information and Modeling, 2022, 62 (23), 5938-5951. DOI: 10.1021/acs.jcim.2c01073\"\"\"\n",
    "\n",
    "### Desired dataset \n",
    "dataset = 'CHEMBL214_Ki.csv'\n",
    "\n",
    "### Download the dataset\n",
    "os.system('wget ' + git_path + dataset)"
   ]
  },
  {
   "cell_type": "code",
   "execution_count": 21,
   "metadata": {},
   "outputs": [],
   "source": [
    "# Generation of binary fingerprints from a SMILES\n",
    "# This is step is only necesary if you do not have your data as fingerprints\n",
    "\n",
    "# Read the SMILES from a csv file\n",
    "df = pd.read_csv(dataset) # --> This file contains the smiles of the molecules, change it for your own data\n",
    "smiles = df['smiles'].tolist() # --> This is a list of smiles, change column name for your own data\n",
    "\n",
    "# Generation of RDKit fingerprints\n",
    "fps = []\n",
    "for smi in smiles:\n",
    "    try:\n",
    "        mol = Chem.MolFromSmiles(smi)\n",
    "        fp = np.array([])\n",
    "        DataStructs.cDataStructs.ConvertToNumpyArray(Chem.RDKFingerprint(mol), fp)\n",
    "        fps.append(fp)\n",
    "        \n",
    "    except:\n",
    "        print('Invalid SMILES: ', smi)\n",
    "\n",
    "fps = np.array(fps)\n",
    "\n",
    "# Optional: save the fingerprints in a npy file\n",
    "# np.save('fps_iSIM_example.npy', fps)    "
   ]
  },
  {
   "cell_type": "code",
   "execution_count": 4,
   "metadata": {},
   "outputs": [],
   "source": [
    "# Load the fingerprints from a npy file (optional, in case you have already generated the fingerprints)\n",
    "# fps = np.load('fps_iSIM_example.npy', allow_pickle=True)"
   ]
  },
  {
   "cell_type": "code",
   "execution_count": 28,
   "metadata": {},
   "outputs": [
    {
     "name": "stdout",
     "output_type": "stream",
     "text": [
      "Number of molecules:  3317\n",
      "isim:  0.20331\n"
     ]
    }
   ],
   "source": [
    "# Calculate iSIM value for a desired index\n",
    "index = 'RR' # --> Change JT, RR or SM\n",
    "n_molecules = len (fps)\n",
    "print('Number of molecules: ', n_molecules)\n",
    "print('isim: ', np.round(calculate_isim(fps, n_ary = index), 5))"
   ]
  },
  {
   "cell_type": "code",
   "execution_count": 29,
   "metadata": {},
   "outputs": [
    {
     "name": "stdout",
     "output_type": "stream",
     "text": [
      "Average pairwise similarity:  0.20331\n"
     ]
    }
   ],
   "source": [
    "# Calculate the average pairwise similarity compute in an O(N^2) time\n",
    "pairwise_sims = []\n",
    "for i in range(n_molecules):\n",
    "    for j in range(n_molecules):\n",
    "        if i != j: pairwise_sims.append(calculate_isim(np.array([fps[i], fps[j]]), n_ary = index))\n",
    "print('Average pairwise similarity: ', np.round(np.mean(pairwise_sims), 5))"
   ]
  },
  {
   "cell_type": "code",
   "execution_count": 30,
   "metadata": {},
   "outputs": [
    {
     "data": {
      "image/png": "[encoded data removed]",
      "text/plain": [
       "<PIL.PngImagePlugin.PngImageFile image mode=RGB size=300x300 at 0x7449EAA4CB80>"
      ]
     },
     "execution_count": 30,
     "metadata": {},
     "output_type": "execute_result"
    }
   ],
   "source": [
    "# Get the medoid (most similar molecule to the rest of the molecules), drawing work if smiles are available\n",
    "medoid = calculate_medoid(fps, n_ary = index)\n",
    "mol = Chem.MolFromSmiles(smiles[medoid])\n",
    "Draw.MolToImage(mol)"
   ]
  },
  {
   "cell_type": "code",
   "execution_count": 31,
   "metadata": {},
   "outputs": [
    {
     "data": {
      "image/png": "[encoded data removed]",
      "text/plain": [
       "<PIL.PngImagePlugin.PngImageFile image mode=RGB size=300x300 at 0x7449EAA4C5B0>"
      ]
     },
     "execution_count": 31,
     "metadata": {},
     "output_type": "execute_result"
    }
   ],
   "source": [
    "# Get the outliers (most dissimilar molecules to the rest of the molecules), drawing work if smiles are available\n",
    "outlier = calculate_outlier(fps, n_ary = index)\n",
    "mol = Chem.MolFromSmiles(smiles[outlier])\n",
    "Draw.MolToImage(mol)"
   ]
  }
 ],
 "metadata": {
  "kernelspec": {
   "display_name": "Python 3",
   "language": "python",
   "name": "python3"
  },
  "language_info": {
   "codemirror_mode": {
    "name": "ipython",
    "version": 3
   },
   "file_extension": ".py",
   "mimetype": "text/x-python",
   "name": "python",
   "nbconvert_exporter": "python",
   "pygments_lexer": "ipython3",
   "version": "3.10.12"
  },
  "orig_nbformat": 4
 },
 "nbformat": 4,
 "nbformat_minor": 2
}
