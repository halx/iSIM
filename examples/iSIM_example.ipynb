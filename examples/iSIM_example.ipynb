{
 "cells": [
  {
   "cell_type": "markdown",
   "metadata": {},
   "source": [
    "# **iSIM**\n",
    "\n",
    "***\n",
    "Miranda-Quintana Group, Department of Chemistry, University of Florida\n",
    "\n",
    "***\n",
    "Please cite the original iSIM paper:\n",
    "\n",
    "***\n",
    "This notebook contains an example on how to generate binary and real-value descriptor fingerprints and apply iSIM to them. The example shows how to download one of the datasets studied on the paper. \n",
    "\n",
    "Other functionalities like complementary similarity, identification of medoids and outliers are shown. "
   ]
  },
  {
   "cell_type": "code",
   "execution_count": 16,
   "metadata": {},
   "outputs": [],
   "source": [
    "from iSIM.comp import calculate_isim, calculate_medoid, calculate_outlier\n",
    "from iSIM.real import calculate_isim_real, calculate_medoid_real, calculate_outlier_real, pairwise_average_real\n",
    "from iSIM.utils import binary_fps, minmax_norm, real_fps, pairwise_average, rdkit_pairwise_sim\n",
    "import numpy as np\n",
    "import os\n",
    "import pandas as pd\n",
    "from rdkit import Chem, DataStructs\n",
    "from rdkit.Chem import Draw"
   ]
  },
  {
   "cell_type": "markdown",
   "metadata": {},
   "source": [
    "## Generation of binary fingerprints\n",
    "This example shows how to download one of the datasets used in the paper. If other dataset wants to be tested please change the name accordingly, to see the dataset names refer to paper SI. \n",
    "\n",
    "The databases are available at: https://github.com/molML/MoleculeACE/blob/main/MoleculeACE/Data/benchmark_data/old/\n",
    "\n",
    "Please cite the original paper where the databases were cured:\n",
    "Exposing the Limitations of Molecular Machine Learning with Activity Cliffs. Derek van Tilborg, Alisa Alenicheva, and Francesca Grisoni. \n",
    "Journal of Chemical Information and Modeling, 2022, 62 (23), 5938-5951. DOI: 10.1021/acs.jcim.2c01073"
   ]
  },
  {
   "cell_type": "markdown",
   "metadata": {},
   "source": [
    "### Downloading one of the used datasets from the github repo"
   ]
  },
  {
   "cell_type": "code",
   "execution_count": 3,
   "metadata": {},
   "outputs": [
    {
     "name": "stderr",
     "output_type": "stream",
     "text": [
      "--2024-04-15 21:51:10--  https://raw.githubusercontent.com/molML/MoleculeACE/main/MoleculeACE/Data/benchmark_data/old/CHEMBL214_Ki.csv\n",
      "Resolving raw.githubusercontent.com (raw.githubusercontent.com)... 185.199.108.133, 185.199.109.133, 185.199.110.133, ...\n",
      "Connecting to raw.githubusercontent.com (raw.githubusercontent.com)|185.199.108.133|:443... connected.\n",
      "HTTP request sent, awaiting response... 200 OK\n",
      "Length: 266241 (260K) [text/plain]\n",
      "Saving to: ‘CHEMBL214_Ki.csv’\n",
      "\n",
      "     0K .......... .......... .......... .......... .......... 19% 3.83M 0s\n",
      "    50K .......... .......... .......... .......... .......... 38% 3.87M 0s\n",
      "   100K .......... .......... .......... .......... .......... 57% 9.74M 0s\n",
      "   150K .......... .......... .......... .......... .......... 76% 8.73M 0s\n",
      "   200K .......... .......... .......... .......... .......... 96% 37.3M 0s\n",
      "   250K ..........                                            100%  376M=0.04s\n",
      "\n",
      "2024-04-15 21:51:11 (6.81 MB/s) - ‘CHEMBL214_Ki.csv’ saved [266241/266241]\n",
      "\n"
     ]
    },
    {
     "data": {
      "text/plain": [
       "0"
      ]
     },
     "execution_count": 3,
     "metadata": {},
     "output_type": "execute_result"
    }
   ],
   "source": [
    "git_path = 'https://raw.githubusercontent.com/molML/MoleculeACE/main/MoleculeACE/Data/benchmark_data/old/'\n",
    "\n",
    "\n",
    "### Desired dataset \n",
    "dataset = 'CHEMBL214_Ki.csv'\n",
    "\n",
    "### Download the dataset\n",
    "os.system('wget ' + git_path + dataset)"
   ]
  },
  {
   "cell_type": "markdown",
   "metadata": {},
   "source": [
    "### Reading the .csv file and generating binary fingerprints"
   ]
  },
  {
   "cell_type": "code",
   "execution_count": 2,
   "metadata": {},
   "outputs": [],
   "source": [
    "# This is step is only necesary if you do not have your data as fingerprints\n",
    "dataset = 'CHEMBL214_Ki.csv'\n",
    "\n",
    "# Read the SMILES from a csv file\n",
    "df = pd.read_csv(dataset) # --> This file contains the smiles of the molecules, change it for your own data\n",
    "smiles = df['smiles'].tolist() # --> This is a list of smiles, change column name for your own data\n",
    "\n",
    "# Generation of fingerprints\n",
    "fps = binary_fps(smiles, fp_type='RDKIT', n_bits=None) # --> fp_type: {'RDKIT', 'ECFP4', 'ECFP6', 'MACCS'}, if ECFP indicate n_bits\n",
    "\n",
    "# Optional: save the fingerprints in a npy file\n",
    "np.save(dataset[:-4] +'_fps.npy', fps)    "
   ]
  },
  {
   "cell_type": "markdown",
   "metadata": {},
   "source": [
    "### Optional: load a .npy file with the binary fingerprints"
   ]
  },
  {
   "cell_type": "code",
   "execution_count": 4,
   "metadata": {},
   "outputs": [],
   "source": [
    "# Load the fingerprints from a npy file (optional, in case you have already generated the fingerprints)\n",
    "# fps = np.load('fps_iSIM_example.npy', allow_pickle=True)"
   ]
  },
  {
   "cell_type": "markdown",
   "metadata": {},
   "source": [
    "# Calculation of iSIM"
   ]
  },
  {
   "cell_type": "code",
   "execution_count": 3,
   "metadata": {},
   "outputs": [
    {
     "name": "stdout",
     "output_type": "stream",
     "text": [
      "Number of molecules: 3317\n"
     ]
    }
   ],
   "source": [
    "index = 'JT' # --> Change to JT, RR or SM\n",
    "print(f'Number of molecules: {len(fps)}')"
   ]
  },
  {
   "cell_type": "code",
   "execution_count": 4,
   "metadata": {},
   "outputs": [
    {
     "name": "stdout",
     "output_type": "stream",
     "text": [
      "iSIM: 0.33036\n",
      "CPU times: user 5.7 ms, sys: 208 µs, total: 5.9 ms\n",
      "Wall time: 4.88 ms\n"
     ]
    }
   ],
   "source": [
    "%%time\n",
    "isim = calculate_isim(fps, n_ary = index)\n",
    "print(f'iSIM: {isim:.5f}')"
   ]
  },
  {
   "cell_type": "markdown",
   "metadata": {},
   "source": [
    "Calculation of the average pairwise similarity\n",
    "Approach using only numpy fuctions (iSIM only uses numpy functions)"
   ]
  },
  {
   "cell_type": "code",
   "execution_count": 9,
   "metadata": {},
   "outputs": [
    {
     "name": "stdout",
     "output_type": "stream",
     "text": [
      "Average pairwise similarity: 0.32487\n",
      "CPU times: user 6min 38s, sys: 445 ms, total: 6min 38s\n",
      "Wall time: 6min 38s\n"
     ]
    }
   ],
   "source": [
    "%%time\n",
    "print(f'Average pairwise similarity: {pairwise_average(fingerprints=fps, n_ary=index):.5f}')"
   ]
  },
  {
   "cell_type": "markdown",
   "metadata": {},
   "source": [
    "Calculation using rdkit bulk similarity functions"
   ]
  },
  {
   "cell_type": "code",
   "execution_count": 5,
   "metadata": {},
   "outputs": [],
   "source": [
    "# Convert the fingerprints to ExplicitBitVect format required by RDKit\n",
    "fps_bitvect = []\n",
    "for fp in fps:\n",
    "    bitvect = DataStructs.ExplicitBitVect(len(fp))\n",
    "    bitvect.SetBitsFromList(np.where(fp)[0].tolist())\n",
    "    fps_bitvect.append(bitvect)"
   ]
  },
  {
   "cell_type": "code",
   "execution_count": 6,
   "metadata": {},
   "outputs": [
    {
     "name": "stdout",
     "output_type": "stream",
     "text": [
      "Average pairwise similarity: 0.32487\n",
      "CPU times: user 930 ms, sys: 116 ms, total: 1.05 s\n",
      "Wall time: 1.04 s\n"
     ]
    }
   ],
   "source": [
    "%%time\n",
    "average_pairwise = rdkit_pairwise_sim(fps_bitvect)\n",
    "print(f'Average pairwise similarity: {average_pairwise:.5f}')"
   ]
  },
  {
   "cell_type": "markdown",
   "metadata": {},
   "source": [
    "### Get the medoid \n",
    "\n",
    "Most similar molecule to the rest of the molecules\n",
    "\n",
    "*To get the drawing smiles is necessary"
   ]
  },
  {
   "cell_type": "code",
   "execution_count": 7,
   "metadata": {},
   "outputs": [
    {
     "data": {
      "image/png": "[encoded data removed]",
      "text/plain": [
       "<PIL.PngImagePlugin.PngImageFile image mode=RGB size=300x300 at 0x7934794EFB20>"
      ]
     },
     "execution_count": 7,
     "metadata": {},
     "output_type": "execute_result"
    }
   ],
   "source": [
    "medoid = calculate_medoid(fps, n_ary = index)\n",
    "mol = Chem.MolFromSmiles(smiles[medoid])\n",
    "Draw.MolToImage(mol)"
   ]
  },
  {
   "cell_type": "markdown",
   "metadata": {},
   "source": [
    "### Get the outlier\n",
    "\n",
    "Most dissimilar molecules to the rest of the molecules"
   ]
  },
  {
   "cell_type": "code",
   "execution_count": 8,
   "metadata": {},
   "outputs": [
    {
     "data": {
      "image/png": "[encoded data removed]",
      "text/plain": [
       "<PIL.PngImagePlugin.PngImageFile image mode=RGB size=300x300 at 0x7934365D0640>"
      ]
     },
     "execution_count": 8,
     "metadata": {},
     "output_type": "execute_result"
    }
   ],
   "source": [
    "outlier = calculate_outlier(fps, n_ary = index)\n",
    "mol = Chem.MolFromSmiles(smiles[outlier])\n",
    "Draw.MolToImage(mol)"
   ]
  },
  {
   "cell_type": "markdown",
   "metadata": {},
   "source": [
    "# Generation of real-value descriptor fingerprints"
   ]
  },
  {
   "cell_type": "markdown",
   "metadata": {},
   "source": [
    "Generation of rdkit real-value descriptors. Descriptors with errors from rdkit dropped. \n",
    "\n",
    "Normalization of the fingerprints is required. You can substitute by any method that normalizes between [0, 1]"
   ]
  },
  {
   "cell_type": "code",
   "execution_count": 19,
   "metadata": {},
   "outputs": [
    {
     "name": "stderr",
     "output_type": "stream",
     "text": [
      "/home/kenneth/Documents/iSIM/isim_utils.py:137: RuntimeWarning: invalid value encountered in scalar divide\n",
      "  df[column] = [(x - min_prop) / (max_prop - min_prop) for x in df[column]]\n"
     ]
    }
   ],
   "source": [
    "fps_real = real_fps(smiles)\n",
    "fps_real = minmax_norm(fps_real)"
   ]
  },
  {
   "cell_type": "markdown",
   "metadata": {},
   "source": [
    "Calculation of iSIM for real value descriptors"
   ]
  },
  {
   "cell_type": "code",
   "execution_count": 26,
   "metadata": {},
   "outputs": [
    {
     "name": "stdout",
     "output_type": "stream",
     "text": [
      "iSIM: 0.67973\n",
      "CPU times: user 2.9 ms, sys: 0 ns, total: 2.9 ms\n",
      "Wall time: 2 ms\n"
     ]
    }
   ],
   "source": [
    "%%time\n",
    "index = 'JT' # --> Change JT, RR or SM\n",
    "print(f'iSIM: {calculate_isim_real(fps_real, n_ary = index):.5f}')"
   ]
  },
  {
   "cell_type": "markdown",
   "metadata": {},
   "source": [
    "Calculation of the average pairwise similarity using only numpy functions (O(N^2))"
   ]
  },
  {
   "cell_type": "code",
   "execution_count": 27,
   "metadata": {},
   "outputs": [
    {
     "name": "stdout",
     "output_type": "stream",
     "text": [
      "Average pairwise similarity: 0.68718\n",
      "CPU times: user 1min 1s, sys: 288 ms, total: 1min 1s\n",
      "Wall time: 1min 1s\n"
     ]
    }
   ],
   "source": [
    "%%time\n",
    "print(f'Average pairwise similarity: {pairwise_average_real(fingerprints=fps_real, n_ary=index):.5f}')"
   ]
  },
  {
   "cell_type": "markdown",
   "metadata": {},
   "source": [
    "### Get the medoid using real-value descriptors"
   ]
  },
  {
   "cell_type": "code",
   "execution_count": 28,
   "metadata": {},
   "outputs": [
    {
     "data": {
      "image/png": "[encoded data removed]",
      "text/plain": [
       "<PIL.PngImagePlugin.PngImageFile image mode=RGB size=300x300 at 0x7934794EF070>"
      ]
     },
     "execution_count": 28,
     "metadata": {},
     "output_type": "execute_result"
    }
   ],
   "source": [
    "medoid = calculate_medoid_real(fps_real, n_ary = index)\n",
    "mol = Chem.MolFromSmiles(smiles[medoid])\n",
    "Draw.MolToImage(mol)"
   ]
  },
  {
   "cell_type": "markdown",
   "metadata": {},
   "source": [
    "### Get the outlier using real-value descriptors"
   ]
  },
  {
   "cell_type": "code",
   "execution_count": 29,
   "metadata": {},
   "outputs": [
    {
     "data": {
      "image/png": "[encoded data removed]",
      "text/plain": [
       "<PIL.PngImagePlugin.PngImageFile image mode=RGB size=300x300 at 0x793468134100>"
      ]
     },
     "execution_count": 29,
     "metadata": {},
     "output_type": "execute_result"
    }
   ],
   "source": [
    "outlier = calculate_outlier(fps_real, n_ary = index)\n",
    "mol = Chem.MolFromSmiles(smiles[outlier])\n",
    "Draw.MolToImage(mol)"
   ]
  }
 ],
 "metadata": {
  "kernelspec": {
   "display_name": "Python 3",
   "language": "python",
   "name": "python3"
  },
  "language_info": {
   "codemirror_mode": {
    "name": "ipython",
    "version": 3
   },
   "file_extension": ".py",
   "mimetype": "text/x-python",
   "name": "python",
   "nbconvert_exporter": "python",
   "pygments_lexer": "ipython3",
   "version": "3.10.12"
  },
  "orig_nbformat": 4
 },
 "nbformat": 4,
 "nbformat_minor": 2
}
